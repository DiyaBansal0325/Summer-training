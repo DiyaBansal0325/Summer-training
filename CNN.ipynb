{
  "nbformat": 4,
  "nbformat_minor": 0,
  "metadata": {
    "colab": {
      "provenance": [],
      "include_colab_link": true
    },
    "kernelspec": {
      "name": "python3",
      "display_name": "Python 3"
    },
    "language_info": {
      "name": "python"
    }
  },
  "cells": [
    {
      "cell_type": "markdown",
      "metadata": {
        "id": "view-in-github",
        "colab_type": "text"
      },
      "source": [
        "<a href=\"https://colab.research.google.com/github/DiyaBansal0325/Summer-training/blob/main/CNN.ipynb\" target=\"_parent\"><img src=\"https://colab.research.google.com/assets/colab-badge.svg\" alt=\"Open In Colab\"/></a>"
      ]
    },
    {
      "cell_type": "code",
      "execution_count": null,
      "metadata": {
        "id": "_HgkjKOEODrC"
      },
      "outputs": [],
      "source": [
        "# CNN ----> Convolutional Neural Network\n",
        "\n",
        "# It is used for image related preprocessing and classification ."
      ]
    },
    {
      "cell_type": "code",
      "source": [
        "# Image ----> Pixels(0-255) ----> 0px (black) , 255px(white) ---->\n",
        "# Normalize ----> (0-1)"
      ],
      "metadata": {
        "id": "xPQv9LvkOMsG"
      },
      "execution_count": null,
      "outputs": []
    },
    {
      "cell_type": "code",
      "source": [
        "# Layers ---->\n",
        "# (1). Dense Layer ----> Fully connected layer  , in which output of previous step will be input\n",
        "# of upcoming step.\n",
        "# (2). Convolutional Layer ---> Partially connected layer\n",
        "\n",
        "# If there will be overfitting then we can use regularization layer .\n",
        "# Pooling Layer ----->"
      ],
      "metadata": {
        "id": "ySl3-1iIOj9c"
      },
      "execution_count": null,
      "outputs": []
    },
    {
      "cell_type": "code",
      "source": [
        "import numpy as np\n",
        "a = np.arange(1,10).reshape(3,3)\n",
        "a"
      ],
      "metadata": {
        "colab": {
          "base_uri": "https://localhost:8080/"
        },
        "id": "ycYXrteAPSmv",
        "outputId": "309768ed-d627-44ba-f930-15cd168798d8"
      },
      "execution_count": null,
      "outputs": [
        {
          "output_type": "execute_result",
          "data": {
            "text/plain": [
              "array([[1, 2, 3],\n",
              "       [4, 5, 6],\n",
              "       [7, 8, 9]])"
            ]
          },
          "metadata": {},
          "execution_count": 4
        }
      ]
    },
    {
      "cell_type": "code",
      "source": [
        "# stride and Kernel ---> stride means gap of values and Kernel means filteration ."
      ],
      "metadata": {
        "id": "RMY-NrMnPXQH"
      },
      "execution_count": null,
      "outputs": []
    },
    {
      "cell_type": "code",
      "source": [
        "# In matrix a I will take stride = 1 and kernel = (2,2)"
      ],
      "metadata": {
        "id": "mcjHEthFPgDz"
      },
      "execution_count": null,
      "outputs": []
    },
    {
      "cell_type": "code",
      "source": [
        "# # Max , Min Pooling , Average Pooling  ---->\n",
        "# [1,2]  ----> Maximum number = 5 , Min Number = 1 , Average Pooling = (1+2+4+5)/4 = 12/4 = 3\n",
        "# [4,5]\n",
        "\n",
        "# [2,3]  -----> Maximum Number = 6  , Min Number = 2 , Average Pooling = (2+3+5+6)/4 = 16/4 = 4\n",
        "# [5,6]\n",
        "\n",
        "# [4,5]  -----> Maximum Number = 8  , Min Number = 4 , Average Pooling = (4+5+7+8)/4 = 24/4 = 6\n",
        "# [7,8]\n",
        "\n",
        "# [5,6] ----> Maximum Number = 9  , Min Number = 5 , Average Pooling = (5+6+8+9)/4 = 28/4 = 7\n",
        "# [8,9]\n",
        "\n",
        "#   Max Pooling ---> Final Output  = [5,6]\n",
        "#                                     [8,9]\n",
        "\n",
        "# Min Pooling ----> Final Output  = [1,2]\n",
        "#                                    [4,5]\n",
        "\n",
        "# AveragePooling ----> Final Output  = [3,4]\n",
        "#                                       [6,7]"
      ],
      "metadata": {
        "id": "IjdZ8CCnQQp5"
      },
      "execution_count": null,
      "outputs": []
    },
    {
      "cell_type": "code",
      "source": [
        "# Image ---> Parameters(Height , Width , color channel(RGB)) ---->\n",
        "# Padding ---->\n",
        "\n",
        "# 1 Image = (200,200,3)  , 2 Image = (250 , 200,3)  ---> for model training we have to do same shape of data.\n",
        "# 1 Image ----> 50 0px add\n",
        "\n",
        "# 1 Image = (250 , 200,3)\n",
        "# 2 Image = (250 , 200 , 3)"
      ],
      "metadata": {
        "id": "r8yjTzgTSAeZ"
      },
      "execution_count": null,
      "outputs": []
    },
    {
      "cell_type": "code",
      "source": [
        "# Padding means add 0px in a matrix of image .\n",
        "# (1). Pre-Padding ----> Add Pixels in a image in starting .\n",
        "# (2). Post-Padding ----> Add Pixels in a image in last ."
      ],
      "metadata": {
        "id": "nisDpXOjSrym"
      },
      "execution_count": null,
      "outputs": []
    },
    {
      "cell_type": "code",
      "source": [
        "# Flow of work in CNN ----->\n",
        "\n",
        "# Data Gathering ---> Data Cleaning and Preprocessing (Feature Engineering) ---->\n",
        "# Apply Model Sequential Architecture(input layer , hidden layer , output layer) ---->\n",
        "# Model compile(optimizer , loss_function , metrics) ----->\n",
        "# Model training  ----> Model Prediction ---> Model Accuracy ."
      ],
      "metadata": {
        "id": "Drxbt50bWSgP"
      },
      "execution_count": null,
      "outputs": []
    },
    {
      "cell_type": "code",
      "source": [
        "# What are optimizers ?\n",
        "\n",
        "# Loss function ----> difference (y_actual - y_predicted)\n",
        "# (a). Binary cross entropy ---> when we have only 2 sub-category in target column  .\n",
        "# column(Has_covid)---> sub(yes, no)\n",
        "\n",
        "# (b). SparseCategorical cross entropy  -----> When we have more then 2 sub-categories in target column .\n",
        "# column(colors) ---> sub(red , green , yellow , blue)\n",
        "\n",
        "# Loss minimize  ---> optimizers (Adam , SGD)\n"
      ],
      "metadata": {
        "id": "J3e77E40W0Ve"
      },
      "execution_count": null,
      "outputs": []
    }
  ]
}